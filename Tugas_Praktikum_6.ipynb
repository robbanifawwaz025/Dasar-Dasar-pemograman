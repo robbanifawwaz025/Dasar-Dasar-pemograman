{
  "nbformat": 4,
  "nbformat_minor": 0,
  "metadata": {
    "colab": {
      "provenance": [],
      "authorship_tag": "ABX9TyPXOmXQ8mVRAO/G0Cc2URc2",
      "include_colab_link": true
    },
    "kernelspec": {
      "name": "python3",
      "display_name": "Python 3"
    },
    "language_info": {
      "name": "python"
    }
  },
  "cells": [
    {
      "cell_type": "markdown",
      "metadata": {
        "id": "view-in-github",
        "colab_type": "text"
      },
      "source": [
        "<a href=\"https://colab.research.google.com/github/robbanifawwaz025/Dasar-Dasar-pemograman/blob/main/Tugas_Praktikum_6.ipynb\" target=\"_parent\"><img src=\"https://colab.research.google.com/assets/colab-badge.svg\" alt=\"Open In Colab\"/></a>"
      ]
    },
    {
      "cell_type": "code",
      "source": [
        "\n",
        "#TugasPrint semua bilangan ganjil dari list berikut, hentikan perulangan ketika\n",
        "#sudah melewati bilangan 553. Pakai perulangan while.\n",
        "\n",
        "numbers = [\n",
        "951, 402, 984, 651, 360, 69, 408, 319, 601, 485, 980, 507, 725,\n",
        "547, 544, 615, 83, 165, 141, 501, 263, 617, 865, 575, 219, 390,\n",
        "984, 592, 236, 105, 942, 941, 386, 462, 47, 418, 907, 344, 236,\n",
        "375, 823, 566, 597, 978, 328, 615, 953, 345, 399, 162, 758, 219,\n",
        "918, 237, 412, 566, 826, 248, 866, 950, 626, 949, 687, 217, 815,\n",
        "67, 104, 58, 512, 24, 892, 894, 767, 553, 81, 379, 843, 831, 445,\n",
        "742, 717, 958, 609, 842, 451, 688, 753, 854, 685, 93, 857, 440,\n",
        "380, 126, 721, 328, 753, 470, 743, 527\n",
        "]\n",
        "\n",
        "index = 0\n",
        "while i <= len(numbers):\n",
        "  if numbers[index] == 81:\n",
        "    break\n",
        "\n",
        "  if numbers[index] %2 == 1:\n",
        "    print(numbers[index])\n",
        "\n",
        "  index += 1"
      ],
      "metadata": {
        "colab": {
          "base_uri": "https://localhost:8080/"
        },
        "id": "Xtxivkg3-qah",
        "outputId": "3304e0e3-0867-40fe-a39e-4b70efb5a31f"
      },
      "execution_count": null,
      "outputs": [
        {
          "output_type": "stream",
          "name": "stdout",
          "text": [
            "951\n",
            "651\n",
            "69\n",
            "319\n",
            "601\n",
            "485\n",
            "507\n",
            "725\n",
            "547\n",
            "615\n",
            "83\n",
            "165\n",
            "141\n",
            "501\n",
            "263\n",
            "617\n",
            "865\n",
            "575\n",
            "219\n",
            "105\n",
            "941\n",
            "47\n",
            "907\n",
            "375\n",
            "823\n",
            "597\n",
            "615\n",
            "953\n",
            "345\n",
            "399\n",
            "219\n",
            "237\n",
            "949\n",
            "687\n",
            "217\n",
            "815\n",
            "67\n",
            "767\n",
            "553\n"
          ]
        }
      ]
    },
    {
      "cell_type": "code",
      "source": [
        "#Tugas Buat lah output dari menggunakan bahasa pemprograman\n",
        "#python dengan :\n",
        "\n",
        "jumlah = 0\n",
        "string = ' '\n",
        "\n",
        "bilangan = 1\n",
        "while bilangan <= 19:\n",
        "  jumlah += bilangan\n",
        "  string += str(bilangan)\n",
        "  if bilangan < 19:\n",
        "   string += '+'\n",
        "  bilangan += 2\n",
        "print(string, '=',jumlah)"
      ],
      "metadata": {
        "colab": {
          "base_uri": "https://localhost:8080/"
        },
        "id": "7jsgwrL_Fkzf",
        "outputId": "13459801-de0b-4ae4-f622-cdc17f7e2648"
      },
      "execution_count": null,
      "outputs": [
        {
          "output_type": "stream",
          "name": "stdout",
          "text": [
            " 1+3+5+7+9+11+13+15+17+19 = 100\n"
          ]
        }
      ]
    },
    {
      "cell_type": "code",
      "source": [
        "#Tugas Buat program untuk minta input jumlah baris dan buat\n",
        "#rangkaian berikut ini\n",
        "\n",
        "baris = int(input(\"masukan angka:\"))\n",
        "for i in range(1, baris + 1):\n",
        "    print('*'  *i)"
      ],
      "metadata": {
        "colab": {
          "base_uri": "https://localhost:8080/"
        },
        "id": "dRAbfx2mITnS",
        "outputId": "7b3731d5-79e6-4a37-bf35-69e258710f81"
      },
      "execution_count": null,
      "outputs": [
        {
          "output_type": "stream",
          "name": "stdout",
          "text": [
            "masukan angka:10\n",
            "*\n",
            "**\n",
            "***\n",
            "****\n",
            "*****\n",
            "******\n",
            "*******\n",
            "********\n",
            "*********\n",
            "**********\n"
          ]
        }
      ]
    }
  ]
}