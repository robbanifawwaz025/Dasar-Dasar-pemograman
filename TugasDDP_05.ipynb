{
  "nbformat": 4,
  "nbformat_minor": 0,
  "metadata": {
    "colab": {
      "provenance": [],
      "authorship_tag": "ABX9TyOPh717a9XdL2KEebsR1UMk",
      "include_colab_link": true
    },
    "kernelspec": {
      "name": "python3",
      "display_name": "Python 3"
    },
    "language_info": {
      "name": "python"
    }
  },
  "cells": [
    {
      "cell_type": "markdown",
      "metadata": {
        "id": "view-in-github",
        "colab_type": "text"
      },
      "source": [
        "<a href=\"https://colab.research.google.com/github/robbanifawwaz025/Dasar-Dasar-pemograman/blob/main/TugasDDP_05.ipynb\" target=\"_parent\"><img src=\"https://colab.research.google.com/assets/colab-badge.svg\" alt=\"Open In Colab\"/></a>"
      ]
    },
    {
      "cell_type": "code",
      "source": [
        "#tugas No1\n",
        "list = [\"Best\",\"motor\",\"120cc\",\"biru\"]\n",
        "list.append(\"12 juta\")\n",
        "list.append(\"matic\")\n",
        "list.insert(2,\"Honda\")\n",
        "print(list)"
      ],
      "metadata": {
        "colab": {
          "base_uri": "https://localhost:8080/"
        },
        "id": "yucTtYRPwjsg",
        "outputId": "03937133-1b63-469f-a9e5-3fb2b1549478"
      },
      "execution_count": null,
      "outputs": [
        {
          "output_type": "stream",
          "name": "stdout",
          "text": [
            "['Best', 'motor', 'Honda', '120cc', 'biru', '12 juta', 'matic']\n"
          ]
        }
      ]
    },
    {
      "cell_type": "code",
      "source": [
        "#Tugas No2\n",
        "\n",
        "print(\"Pilih bentuk geometri untuk menghitung luas:\")\n",
        "print(\"1. Luas Persegi\")\n",
        "print(\"2. Luas Lingkaran\")\n",
        "print(\"3. Luas Segitiga\")\n",
        "\n",
        "pilihan = input(\"Masukkan pilihan (1/2/3): \")\n",
        "\n",
        "match pilihan:\n",
        " case \"1\":\n",
        "  sisi = int(input(\"sisi = \"))\n",
        "  luas = sisi * sisi\n",
        "\n",
        "  print(f\"luas persegi dengan sisi {sisi} adalah {luas}\")\n",
        "  # luas persegi\n",
        "\n",
        " case \"2\":\n",
        "  # luas lingkaran\n",
        "  # phi * jari-jari**2\n",
        "  print(\"anda memilih luas lingkaran\")\n",
        "  jarijari = int(input(\"jarijari= \"))\n",
        "  luas = 3.14 * jarijari**2\n",
        "\n",
        "  print(f\"luas lingkaran dengan jari-jari {jarijari} adalah {luas}\")\n",
        " case \"3\":\n",
        "  # luas segitiga\n",
        "  # (alas * tinggi)/2\n",
        "  print(\"anda memilih luas segitiga\")\n",
        "  alas = int(input(\"alas = \"))\n",
        "  tinggi = int(input(\"tinggi = \"))\n",
        "  luas = (alas * tinggi) / 2\n",
        "  print(f\"luas segitiga dengan alas {alas} dan tinggi {tinggi} adalah {luas}\")\n",
        "\n",
        " case _:\n",
        "  print(\"Pilihan tidak valid.\")"
      ],
      "metadata": {
        "colab": {
          "base_uri": "https://localhost:8080/"
        },
        "id": "bkjQ10IbNf7V",
        "outputId": "3f6e4558-d69c-495c-e746-7409290425c1"
      },
      "execution_count": null,
      "outputs": [
        {
          "output_type": "stream",
          "name": "stdout",
          "text": [
            "Pilih bentuk geometri untuk menghitung luas:\n",
            "1. Luas Persegi\n",
            "2. Luas Lingkaran\n",
            "3. Luas Segitiga\n",
            "Masukkan pilihan (1/2/3): 1\n",
            "sisi = 2\n",
            "luas persegi dengan sisi 2 adalah 4\n"
          ]
        }
      ]
    }
  ]
}