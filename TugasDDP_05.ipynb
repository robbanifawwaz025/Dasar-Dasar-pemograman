{
  "nbformat": 4,
  "nbformat_minor": 0,
  "metadata": {
    "colab": {
      "provenance": [],
      "authorship_tag": "ABX9TyOp+fShXxwKsxEQqJbfaTeH",
      "include_colab_link": true
    },
    "kernelspec": {
      "name": "python3",
      "display_name": "Python 3"
    },
    "language_info": {
      "name": "python"
    }
  },
  "cells": [
    {
      "cell_type": "markdown",
      "metadata": {
        "id": "view-in-github",
        "colab_type": "text"
      },
      "source": [
        "<a href=\"https://colab.research.google.com/github/robbanifawwaz025/Dasar-Dasar-pemograman/blob/main/TugasDDP_05.ipynb\" target=\"_parent\"><img src=\"https://colab.research.google.com/assets/colab-badge.svg\" alt=\"Open In Colab\"/></a>"
      ]
    },
    {
      "cell_type": "code",
      "source": [
        "#tugas No1\n",
        "list = [\"Best\",\"motor\",\"120cc\",\"biru\"]\n",
        "list.append(\"12 juta\")\n",
        "list.append(\"matic\")\n",
        "list.insert(2,\"Honda\")\n",
        "print(list)"
      ],
      "metadata": {
        "colab": {
          "base_uri": "https://localhost:8080/"
        },
        "id": "yucTtYRPwjsg",
        "outputId": "691d4879-831b-45ad-d917-c7d222d20e05"
      },
      "execution_count": null,
      "outputs": [
        {
          "output_type": "stream",
          "name": "stdout",
          "text": [
            "['Best', 'motor', 'Honda', '120cc', 'biru', '12 juta', 'matic']\n"
          ]
        }
      ]
    },
    {
      "cell_type": "code",
      "source": [],
      "metadata": {
        "id": "XUJv67Sb3CNj"
      },
      "execution_count": null,
      "outputs": []
    }
  ]
}